{
  "cells": [
    {
      "cell_type": "markdown",
      "metadata": {
        "id": "8k8LUU7qGTkf"
      },
      "source": [
        "# IMPORT PACKAGES"
      ]
    },
    {
      "cell_type": "code",
      "source": [
        "!python --version"
      ],
      "metadata": {
        "colab": {
          "base_uri": "https://localhost:8080/"
        },
        "id": "l8w5oNBhy2Yi",
        "outputId": "6a886aa5-8f54-4821-ca3e-67b123f0f026"
      },
      "execution_count": null,
      "outputs": [
        {
          "output_type": "stream",
          "name": "stdout",
          "text": [
            "Python 3.10.12\n"
          ]
        }
      ]
    },
    {
      "cell_type": "code",
      "execution_count": null,
      "metadata": {
        "colab": {
          "base_uri": "https://localhost:8080/"
        },
        "id": "tTmzPbY9RAf7",
        "outputId": "acc889a9-00f2-4162-e6b5-abfec9cb4333"
      },
      "outputs": [
        {
          "output_type": "stream",
          "name": "stdout",
          "text": [
            "Collecting tensorflow==2.8.0\n",
            "  Downloading tensorflow-2.8.0-cp310-cp310-manylinux2010_x86_64.whl (497.6 MB)\n",
            "\u001b[2K     \u001b[90m━━━━━━━━━━━━━━━━━━━━━━━━━━━━━━━━━━━━━━━\u001b[0m \u001b[32m497.6/497.6 MB\u001b[0m \u001b[31m2.3 MB/s\u001b[0m eta \u001b[36m0:00:00\u001b[0m\n",
            "\u001b[?25hRequirement already satisfied: absl-py>=0.4.0 in /usr/local/lib/python3.10/dist-packages (from tensorflow==2.8.0) (1.4.0)\n",
            "Requirement already satisfied: astunparse>=1.6.0 in /usr/local/lib/python3.10/dist-packages (from tensorflow==2.8.0) (1.6.3)\n",
            "Requirement already satisfied: flatbuffers>=1.12 in /usr/local/lib/python3.10/dist-packages (from tensorflow==2.8.0) (23.5.26)\n",
            "Requirement already satisfied: gast>=0.2.1 in /usr/local/lib/python3.10/dist-packages (from tensorflow==2.8.0) (0.4.0)\n",
            "Requirement already satisfied: google-pasta>=0.1.1 in /usr/local/lib/python3.10/dist-packages (from tensorflow==2.8.0) (0.2.0)\n",
            "Requirement already satisfied: h5py>=2.9.0 in /usr/local/lib/python3.10/dist-packages (from tensorflow==2.8.0) (3.8.0)\n",
            "Collecting keras-preprocessing>=1.1.1 (from tensorflow==2.8.0)\n",
            "  Downloading Keras_Preprocessing-1.1.2-py2.py3-none-any.whl (42 kB)\n",
            "\u001b[2K     \u001b[90m━━━━━━━━━━━━━━━━━━━━━━━━━━━━━━━━━━━━━━━━\u001b[0m \u001b[32m42.6/42.6 kB\u001b[0m \u001b[31m4.9 MB/s\u001b[0m eta \u001b[36m0:00:00\u001b[0m\n",
            "\u001b[?25hRequirement already satisfied: libclang>=9.0.1 in /usr/local/lib/python3.10/dist-packages (from tensorflow==2.8.0) (16.0.6)\n",
            "Requirement already satisfied: numpy>=1.20 in /usr/local/lib/python3.10/dist-packages (from tensorflow==2.8.0) (1.23.5)\n",
            "Requirement already satisfied: opt-einsum>=2.3.2 in /usr/local/lib/python3.10/dist-packages (from tensorflow==2.8.0) (3.3.0)\n",
            "Requirement already satisfied: protobuf>=3.9.2 in /usr/local/lib/python3.10/dist-packages (from tensorflow==2.8.0) (3.20.3)\n",
            "Requirement already satisfied: setuptools in /usr/local/lib/python3.10/dist-packages (from tensorflow==2.8.0) (67.7.2)\n",
            "Requirement already satisfied: six>=1.12.0 in /usr/local/lib/python3.10/dist-packages (from tensorflow==2.8.0) (1.16.0)\n",
            "Requirement already satisfied: termcolor>=1.1.0 in /usr/local/lib/python3.10/dist-packages (from tensorflow==2.8.0) (2.3.0)\n",
            "Requirement already satisfied: typing-extensions>=3.6.6 in /usr/local/lib/python3.10/dist-packages (from tensorflow==2.8.0) (4.7.1)\n",
            "Requirement already satisfied: wrapt>=1.11.0 in /usr/local/lib/python3.10/dist-packages (from tensorflow==2.8.0) (1.14.1)\n",
            "Collecting tensorboard<2.9,>=2.8 (from tensorflow==2.8.0)\n",
            "  Downloading tensorboard-2.8.0-py3-none-any.whl (5.8 MB)\n",
            "\u001b[2K     \u001b[90m━━━━━━━━━━━━━━━━━━━━━━━━━━━━━━━━━━━━━━━━\u001b[0m \u001b[32m5.8/5.8 MB\u001b[0m \u001b[31m61.0 MB/s\u001b[0m eta \u001b[36m0:00:00\u001b[0m\n",
            "\u001b[?25hCollecting tf-estimator-nightly==2.8.0.dev2021122109 (from tensorflow==2.8.0)\n",
            "  Downloading tf_estimator_nightly-2.8.0.dev2021122109-py2.py3-none-any.whl (462 kB)\n",
            "\u001b[2K     \u001b[90m━━━━━━━━━━━━━━━━━━━━━━━━━━━━━━━━━━━━━━\u001b[0m \u001b[32m462.5/462.5 kB\u001b[0m \u001b[31m39.9 MB/s\u001b[0m eta \u001b[36m0:00:00\u001b[0m\n",
            "\u001b[?25hCollecting keras<2.9,>=2.8.0rc0 (from tensorflow==2.8.0)\n",
            "  Downloading keras-2.8.0-py2.py3-none-any.whl (1.4 MB)\n",
            "\u001b[2K     \u001b[90m━━━━━━━━━━━━━━━━━━━━━━━━━━━━━━━━━━━━━━━━\u001b[0m \u001b[32m1.4/1.4 MB\u001b[0m \u001b[31m54.5 MB/s\u001b[0m eta \u001b[36m0:00:00\u001b[0m\n",
            "\u001b[?25hRequirement already satisfied: tensorflow-io-gcs-filesystem>=0.23.1 in /usr/local/lib/python3.10/dist-packages (from tensorflow==2.8.0) (0.33.0)\n",
            "Requirement already satisfied: grpcio<2.0,>=1.24.3 in /usr/local/lib/python3.10/dist-packages (from tensorflow==2.8.0) (1.56.2)\n",
            "Requirement already satisfied: wheel<1.0,>=0.23.0 in /usr/local/lib/python3.10/dist-packages (from astunparse>=1.6.0->tensorflow==2.8.0) (0.41.0)\n",
            "Requirement already satisfied: google-auth<3,>=1.6.3 in /usr/local/lib/python3.10/dist-packages (from tensorboard<2.9,>=2.8->tensorflow==2.8.0) (2.17.3)\n",
            "Collecting google-auth-oauthlib<0.5,>=0.4.1 (from tensorboard<2.9,>=2.8->tensorflow==2.8.0)\n",
            "  Downloading google_auth_oauthlib-0.4.6-py2.py3-none-any.whl (18 kB)\n",
            "Requirement already satisfied: markdown>=2.6.8 in /usr/local/lib/python3.10/dist-packages (from tensorboard<2.9,>=2.8->tensorflow==2.8.0) (3.4.4)\n",
            "Requirement already satisfied: requests<3,>=2.21.0 in /usr/local/lib/python3.10/dist-packages (from tensorboard<2.9,>=2.8->tensorflow==2.8.0) (2.31.0)\n",
            "Collecting tensorboard-data-server<0.7.0,>=0.6.0 (from tensorboard<2.9,>=2.8->tensorflow==2.8.0)\n",
            "  Downloading tensorboard_data_server-0.6.1-py3-none-manylinux2010_x86_64.whl (4.9 MB)\n",
            "\u001b[2K     \u001b[90m━━━━━━━━━━━━━━━━━━━━━━━━━━━━━━━━━━━━━━━━\u001b[0m \u001b[32m4.9/4.9 MB\u001b[0m \u001b[31m72.6 MB/s\u001b[0m eta \u001b[36m0:00:00\u001b[0m\n",
            "\u001b[?25hCollecting tensorboard-plugin-wit>=1.6.0 (from tensorboard<2.9,>=2.8->tensorflow==2.8.0)\n",
            "  Downloading tensorboard_plugin_wit-1.8.1-py3-none-any.whl (781 kB)\n",
            "\u001b[2K     \u001b[90m━━━━━━━━━━━━━━━━━━━━━━━━━━━━━━━━━━━━━━\u001b[0m \u001b[32m781.3/781.3 kB\u001b[0m \u001b[31m43.6 MB/s\u001b[0m eta \u001b[36m0:00:00\u001b[0m\n",
            "\u001b[?25hRequirement already satisfied: werkzeug>=0.11.15 in /usr/local/lib/python3.10/dist-packages (from tensorboard<2.9,>=2.8->tensorflow==2.8.0) (2.3.6)\n",
            "Requirement already satisfied: cachetools<6.0,>=2.0.0 in /usr/local/lib/python3.10/dist-packages (from google-auth<3,>=1.6.3->tensorboard<2.9,>=2.8->tensorflow==2.8.0) (5.3.1)\n",
            "Requirement already satisfied: pyasn1-modules>=0.2.1 in /usr/local/lib/python3.10/dist-packages (from google-auth<3,>=1.6.3->tensorboard<2.9,>=2.8->tensorflow==2.8.0) (0.3.0)\n",
            "Requirement already satisfied: rsa<5,>=3.1.4 in /usr/local/lib/python3.10/dist-packages (from google-auth<3,>=1.6.3->tensorboard<2.9,>=2.8->tensorflow==2.8.0) (4.9)\n",
            "Requirement already satisfied: requests-oauthlib>=0.7.0 in /usr/local/lib/python3.10/dist-packages (from google-auth-oauthlib<0.5,>=0.4.1->tensorboard<2.9,>=2.8->tensorflow==2.8.0) (1.3.1)\n",
            "Requirement already satisfied: charset-normalizer<4,>=2 in /usr/local/lib/python3.10/dist-packages (from requests<3,>=2.21.0->tensorboard<2.9,>=2.8->tensorflow==2.8.0) (3.2.0)\n",
            "Requirement already satisfied: idna<4,>=2.5 in /usr/local/lib/python3.10/dist-packages (from requests<3,>=2.21.0->tensorboard<2.9,>=2.8->tensorflow==2.8.0) (3.4)\n",
            "Requirement already satisfied: urllib3<3,>=1.21.1 in /usr/local/lib/python3.10/dist-packages (from requests<3,>=2.21.0->tensorboard<2.9,>=2.8->tensorflow==2.8.0) (1.26.16)\n",
            "Requirement already satisfied: certifi>=2017.4.17 in /usr/local/lib/python3.10/dist-packages (from requests<3,>=2.21.0->tensorboard<2.9,>=2.8->tensorflow==2.8.0) (2023.7.22)\n",
            "Requirement already satisfied: MarkupSafe>=2.1.1 in /usr/local/lib/python3.10/dist-packages (from werkzeug>=0.11.15->tensorboard<2.9,>=2.8->tensorflow==2.8.0) (2.1.3)\n",
            "Requirement already satisfied: pyasn1<0.6.0,>=0.4.6 in /usr/local/lib/python3.10/dist-packages (from pyasn1-modules>=0.2.1->google-auth<3,>=1.6.3->tensorboard<2.9,>=2.8->tensorflow==2.8.0) (0.5.0)\n",
            "Requirement already satisfied: oauthlib>=3.0.0 in /usr/local/lib/python3.10/dist-packages (from requests-oauthlib>=0.7.0->google-auth-oauthlib<0.5,>=0.4.1->tensorboard<2.9,>=2.8->tensorflow==2.8.0) (3.2.2)\n",
            "Installing collected packages: tf-estimator-nightly, tensorboard-plugin-wit, keras, tensorboard-data-server, keras-preprocessing, google-auth-oauthlib, tensorboard, tensorflow\n",
            "  Attempting uninstall: keras\n",
            "    Found existing installation: keras 2.12.0\n",
            "    Uninstalling keras-2.12.0:\n",
            "      Successfully uninstalled keras-2.12.0\n",
            "  Attempting uninstall: tensorboard-data-server\n",
            "    Found existing installation: tensorboard-data-server 0.7.1\n",
            "    Uninstalling tensorboard-data-server-0.7.1:\n",
            "      Successfully uninstalled tensorboard-data-server-0.7.1\n",
            "  Attempting uninstall: google-auth-oauthlib\n",
            "    Found existing installation: google-auth-oauthlib 1.0.0\n",
            "    Uninstalling google-auth-oauthlib-1.0.0:\n",
            "      Successfully uninstalled google-auth-oauthlib-1.0.0\n",
            "  Attempting uninstall: tensorboard\n",
            "    Found existing installation: tensorboard 2.12.3\n",
            "    Uninstalling tensorboard-2.12.3:\n",
            "      Successfully uninstalled tensorboard-2.12.3\n",
            "  Attempting uninstall: tensorflow\n",
            "    Found existing installation: tensorflow 2.12.0\n",
            "    Uninstalling tensorflow-2.12.0:\n",
            "      Successfully uninstalled tensorflow-2.12.0\n",
            "Successfully installed google-auth-oauthlib-0.4.6 keras-2.8.0 keras-preprocessing-1.1.2 tensorboard-2.8.0 tensorboard-data-server-0.6.1 tensorboard-plugin-wit-1.8.1 tensorflow-2.8.0 tf-estimator-nightly-2.8.0.dev2021122109\n",
            "Requirement already satisfied: keras==2.8.0 in /usr/local/lib/python3.10/dist-packages (2.8.0)\n"
          ]
        }
      ],
      "source": [
        "# Install packages for compatibility with the autograder\n",
        "!pip install tensorflow==2.8.0\n",
        "!pip install keras==2.8.0"
      ]
    },
    {
      "cell_type": "code",
      "execution_count": null,
      "metadata": {
        "id": "N8WQRMYPGSvr"
      },
      "outputs": [],
      "source": [
        "import tensorflow as tf\n",
        "from tensorflow.keras.preprocessing.image import ImageDataGenerator\n",
        "import numpy as np\n",
        "from sklearn.metrics import classification_report"
      ]
    },
    {
      "cell_type": "markdown",
      "metadata": {
        "id": "2RNGAy8QJQqG"
      },
      "source": [
        "# LOAD DATASET"
      ]
    },
    {
      "cell_type": "code",
      "execution_count": null,
      "metadata": {
        "colab": {
          "base_uri": "https://localhost:8080/"
        },
        "id": "Q6Pnix2iKXR5",
        "outputId": "142fe39d-55f6-4e35-8f37-9fd00f8cff91"
      },
      "outputs": [
        {
          "output_type": "stream",
          "name": "stdout",
          "text": [
            "Mounted at /content/drive/\n"
          ]
        }
      ],
      "source": [
        "from google.colab import drive\n",
        "drive.mount('/content/drive/', force_remount=True)"
      ]
    },
    {
      "cell_type": "code",
      "execution_count": null,
      "metadata": {
        "id": "1T0qxwH9DrEp"
      },
      "outputs": [],
      "source": [
        "TRAINING_DIR = \"/content/drive/My Drive/RiceLeafDiseaseImages/train/\"\n",
        "TESTING_DIR = \"/content/drive/My Drive/RiceLeafDiseaseImages/test/\""
      ]
    },
    {
      "cell_type": "markdown",
      "metadata": {
        "id": "DWN3lkmkJrrD"
      },
      "source": [
        "# IMAGE AUGMENTATION"
      ]
    },
    {
      "cell_type": "code",
      "execution_count": null,
      "metadata": {
        "id": "MR-AWBDMDrJ1"
      },
      "outputs": [],
      "source": [
        "training_datagen = ImageDataGenerator(\n",
        "        rescale=1. / 255,\n",
        "\n",
        "        # image augmentation\n",
        "        rotation_range=90,\n",
        "        horizontal_flip=True,\n",
        "        vertical_flip=True,\n",
        "        fill_mode='nearest',\n",
        "\n",
        "        # split dataset\n",
        "        validation_split=0.4\n",
        "        )\n",
        "\n",
        "testing_datagen = ImageDataGenerator(rescale=1. / 255)"
      ]
    },
    {
      "cell_type": "code",
      "execution_count": null,
      "metadata": {
        "colab": {
          "base_uri": "https://localhost:8080/"
        },
        "id": "hZAB2b1HDrOP",
        "outputId": "9ca41c2a-c7de-4e1a-9b58-6149933b1e42"
      },
      "outputs": [
        {
          "output_type": "stream",
          "name": "stdout",
          "text": [
            "Found 3082 images belonging to 4 classes.\n",
            "Found 2052 images belonging to 4 classes.\n",
            "Found 800 images belonging to 4 classes.\n"
          ]
        }
      ],
      "source": [
        "train_generator=training_datagen.flow_from_directory(\n",
        "        TRAINING_DIR,\n",
        "        target_size=(224, 224),\n",
        "        batch_size=64,\n",
        "        color_mode='rgb',\n",
        "        class_mode='categorical',\n",
        "        shuffle=True,\n",
        "        subset='training'\n",
        "    )\n",
        "\n",
        "val_generator =training_datagen.flow_from_directory(\n",
        "        TRAINING_DIR,\n",
        "        target_size=(224, 224),\n",
        "        batch_size=64,\n",
        "        color_mode='rgb',\n",
        "        class_mode='categorical',\n",
        "        shuffle=True,\n",
        "        subset='validation'\n",
        "    )\n",
        "\n",
        "test_generator = testing_datagen.flow_from_directory(\n",
        "    TESTING_DIR,\n",
        "    target_size=(224, 224),\n",
        "    batch_size=64,\n",
        "    color_mode='rgb',\n",
        "    class_mode='categorical',\n",
        "    shuffle=False,  # Set shuffle to False for evaluation\n",
        ")"
      ]
    },
    {
      "cell_type": "markdown",
      "metadata": {
        "id": "wC0I_mpWJ3mv"
      },
      "source": [
        "# MODEL BUILDING"
      ]
    },
    {
      "cell_type": "code",
      "execution_count": null,
      "metadata": {
        "id": "e57Y45f5DrSc"
      },
      "outputs": [],
      "source": [
        "def feature_extractor(inputs):\n",
        "        feature_extractor = tf.keras.applications.resnet.ResNet50(input_shape=(224, 224, 3),\n",
        "                                                                   include_top=False,\n",
        "                                                                   weights='imagenet')(inputs)\n",
        "        return feature_extractor\n",
        "\n",
        "def classifier(inputs):\n",
        "        x = tf.keras.layers.GlobalAveragePooling2D()(inputs)\n",
        "        x = tf.keras.layers.Flatten()(x)\n",
        "        x = tf.keras.layers.Dropout(0.2)(x)\n",
        "\n",
        "        x = tf.keras.layers.Dense(128, activation=\"relu\")(x)\n",
        "        x = tf.keras.layers.Dense(4, kernel_regularizer=tf.keras.regularizers.l2(0.01), activation='linear')(x)\n",
        "\n",
        "        return x\n",
        "\n",
        "def final_model(inputs):\n",
        "        resnet_feature_extractor = feature_extractor(inputs)\n",
        "        classification_output = classifier(resnet_feature_extractor)\n",
        "        return classification_output\n",
        "\n",
        "def define_compile_model():\n",
        "        inputs = tf.keras.layers.Input(shape=(224,224,3))\n",
        "        classification_output = final_model(inputs)\n",
        "        model = tf.keras.Model(inputs=inputs, outputs=classification_output)\n",
        "        model.compile(optimizer='sgd',\n",
        "                      loss='squared_hinge',\n",
        "                      metrics=['accuracy'])\n",
        "        return model"
      ]
    },
    {
      "cell_type": "code",
      "execution_count": null,
      "metadata": {
        "colab": {
          "base_uri": "https://localhost:8080/"
        },
        "id": "zoMXvYmTDrWo",
        "outputId": "bb76bf79-382c-4717-ebf3-4595f6974f3d"
      },
      "outputs": [
        {
          "output_type": "stream",
          "name": "stdout",
          "text": [
            "Downloading data from https://storage.googleapis.com/tensorflow/keras-applications/resnet/resnet50_weights_tf_dim_ordering_tf_kernels_notop.h5\n",
            "94773248/94765736 [==============================] - 0s 0us/step\n",
            "94781440/94765736 [==============================] - 0s 0us/step\n",
            "Model: \"model\"\n",
            "_________________________________________________________________\n",
            " Layer (type)                Output Shape              Param #   \n",
            "=================================================================\n",
            " input_1 (InputLayer)        [(None, 224, 224, 3)]     0         \n",
            "                                                                 \n",
            " resnet50 (Functional)       (None, 7, 7, 2048)        23587712  \n",
            "                                                                 \n",
            " global_average_pooling2d (G  (None, 2048)             0         \n",
            " lobalAveragePooling2D)                                          \n",
            "                                                                 \n",
            " flatten (Flatten)           (None, 2048)              0         \n",
            "                                                                 \n",
            " dropout (Dropout)           (None, 2048)              0         \n",
            "                                                                 \n",
            " dense (Dense)               (None, 128)               262272    \n",
            "                                                                 \n",
            " dense_1 (Dense)             (None, 4)                 516       \n",
            "                                                                 \n",
            "=================================================================\n",
            "Total params: 23,850,500\n",
            "Trainable params: 23,797,380\n",
            "Non-trainable params: 53,120\n",
            "_________________________________________________________________\n"
          ]
        }
      ],
      "source": [
        "model = define_compile_model()\n",
        "\n",
        "model.summary()"
      ]
    },
    {
      "cell_type": "markdown",
      "source": [
        "# INISIASI CALLBACK"
      ],
      "metadata": {
        "id": "n4SVHmxVoj0i"
      }
    },
    {
      "cell_type": "code",
      "source": [
        "class MyCallback(tf.keras.callbacks.Callback):\n",
        "    def on_epoch_end(self, epoch, logs={}):\n",
        "        if (logs.get('accuracy') >0.90 and logs.get('val_accuracy')>0.90):\n",
        "            print(\"\\nReached >90% accuracy and 90% validation accuracy, Stop training!\")\n",
        "            self.model.stop_training = True"
      ],
      "metadata": {
        "id": "_3T4BJ5aoz1T"
      },
      "execution_count": null,
      "outputs": []
    },
    {
      "cell_type": "markdown",
      "source": [
        "# TRAINING MODEL"
      ],
      "metadata": {
        "id": "8FNgdesZos3t"
      }
    },
    {
      "cell_type": "code",
      "execution_count": null,
      "metadata": {
        "colab": {
          "base_uri": "https://localhost:8080/"
        },
        "id": "onvyB96pDrbO",
        "outputId": "a909ff3c-60c7-4947-9e4b-5bcd7c2e8cf6"
      },
      "outputs": [
        {
          "output_type": "stream",
          "name": "stdout",
          "text": [
            "Epoch 1/25\n",
            "49/49 [==============================] - 803s 16s/step - loss: 0.4711 - accuracy: 0.7836 - val_loss: 1.0202 - val_accuracy: 0.2412\n",
            "Epoch 2/25\n",
            "49/49 [==============================] - 94s 2s/step - loss: 0.1877 - accuracy: 0.9517 - val_loss: 1.7789 - val_accuracy: 0.2710\n",
            "Epoch 3/25\n",
            "49/49 [==============================] - 91s 2s/step - loss: 0.1302 - accuracy: 0.9802 - val_loss: 4.5000 - val_accuracy: 0.2417\n",
            "Epoch 4/25\n",
            "49/49 [==============================] - 94s 2s/step - loss: 0.1027 - accuracy: 0.9890 - val_loss: 13.5874 - val_accuracy: 0.2417\n",
            "Epoch 5/25\n",
            "49/49 [==============================] - 92s 2s/step - loss: 0.0901 - accuracy: 0.9925 - val_loss: 34.1060 - val_accuracy: 0.2417\n",
            "Epoch 6/25\n",
            "49/49 [==============================] - 92s 2s/step - loss: 0.0796 - accuracy: 0.9971 - val_loss: 64.2000 - val_accuracy: 0.2417\n",
            "Epoch 7/25\n",
            "49/49 [==============================] - 102s 2s/step - loss: 0.0743 - accuracy: 0.9990 - val_loss: 93.4064 - val_accuracy: 0.2442\n",
            "Epoch 8/25\n",
            "49/49 [==============================] - 100s 2s/step - loss: 0.0730 - accuracy: 0.9994 - val_loss: 78.2345 - val_accuracy: 0.2451\n",
            "Epoch 9/25\n",
            "49/49 [==============================] - 92s 2s/step - loss: 0.0707 - accuracy: 0.9994 - val_loss: 66.8712 - val_accuracy: 0.2427\n",
            "Epoch 10/25\n",
            "49/49 [==============================] - 92s 2s/step - loss: 0.0681 - accuracy: 0.9990 - val_loss: 54.6661 - val_accuracy: 0.2437\n",
            "Epoch 11/25\n",
            "49/49 [==============================] - 91s 2s/step - loss: 0.0661 - accuracy: 0.9987 - val_loss: 46.1027 - val_accuracy: 0.2563\n",
            "Epoch 12/25\n",
            "49/49 [==============================] - 94s 2s/step - loss: 0.0643 - accuracy: 1.0000 - val_loss: 19.7594 - val_accuracy: 0.2617\n",
            "Epoch 13/25\n",
            "49/49 [==============================] - 95s 2s/step - loss: 0.0620 - accuracy: 0.9994 - val_loss: 9.2736 - val_accuracy: 0.2778\n",
            "Epoch 14/25\n",
            "49/49 [==============================] - 93s 2s/step - loss: 0.0604 - accuracy: 1.0000 - val_loss: 5.5555 - val_accuracy: 0.3299\n",
            "Epoch 15/25\n",
            "49/49 [==============================] - 93s 2s/step - loss: 0.0583 - accuracy: 0.9997 - val_loss: 3.3683 - val_accuracy: 0.3713\n",
            "Epoch 16/25\n",
            "49/49 [==============================] - 95s 2s/step - loss: 0.0573 - accuracy: 1.0000 - val_loss: 2.0645 - val_accuracy: 0.4493\n",
            "Epoch 17/25\n",
            "49/49 [==============================] - 94s 2s/step - loss: 0.0563 - accuracy: 1.0000 - val_loss: 1.1866 - val_accuracy: 0.5926\n",
            "Epoch 18/25\n",
            "49/49 [==============================] - 94s 2s/step - loss: 0.0561 - accuracy: 0.9997 - val_loss: 0.7612 - val_accuracy: 0.7032\n",
            "Epoch 19/25\n",
            "49/49 [==============================] - 93s 2s/step - loss: 0.0534 - accuracy: 0.9997 - val_loss: 0.3716 - val_accuracy: 0.8509\n",
            "Epoch 20/25\n",
            "49/49 [==============================] - 91s 2s/step - loss: 0.0539 - accuracy: 0.9994 - val_loss: 0.4073 - val_accuracy: 0.8431\n",
            "Epoch 21/25\n",
            "49/49 [==============================] - ETA: 0s - loss: 0.0519 - accuracy: 1.0000\n",
            "Reached >90% accuracy and 90% validation accuracy, Stop training!\n",
            "49/49 [==============================] - 96s 2s/step - loss: 0.0519 - accuracy: 1.0000 - val_loss: 0.1400 - val_accuracy: 0.9586\n"
          ]
        }
      ],
      "source": [
        "# TRAIN MODEL\n",
        "EPOCHS = 25\n",
        "CALLBACK = MyCallback()\n",
        "history = model.fit(train_generator,\n",
        "                    epochs=EPOCHS,\n",
        "                    validation_data=val_generator,\n",
        "                    callbacks=[CALLBACK])"
      ]
    },
    {
      "cell_type": "markdown",
      "source": [
        "# EVALUASI KINERJA MODEL"
      ],
      "metadata": {
        "id": "o2Mg9na0secx"
      }
    },
    {
      "cell_type": "code",
      "execution_count": null,
      "metadata": {
        "colab": {
          "base_uri": "https://localhost:8080/"
        },
        "id": "RZcAYZIeDrfR",
        "outputId": "9cff5bad-4d23-4b01-a9ca-00e31b276e4c"
      },
      "outputs": [
        {
          "output_type": "stream",
          "name": "stdout",
          "text": [
            "13/13 [==============================] - 213s 18s/step - loss: 0.1121 - accuracy: 0.9837\n",
            "Test loss: 0.1121\n",
            "Test accuracy: 0.9837\n"
          ]
        }
      ],
      "source": [
        "# MODEL EVALUATION\n",
        "loss, accuracy = model.evaluate(test_generator)\n",
        "print(f\"Test loss: {loss:.4f}\")\n",
        "print(f\"Test accuracy: {accuracy:.4f}\")"
      ]
    },
    {
      "cell_type": "code",
      "source": [
        "import matplotlib.pyplot as plt\n",
        "\n",
        "# Plot the loss\n",
        "plt.plot(history.history['loss'], label='train loss')\n",
        "plt.plot(history.history['val_loss'], label='val loss')\n",
        "plt.legend()\n",
        "plt.xlabel('Epochs')\n",
        "plt.ylabel('Loss')\n",
        "plt.title('Training and Validation Loss')\n",
        "plt.savefig('LossVal_loss.png')\n",
        "plt.show()\n",
        "\n",
        "# Plot the accuracy\n",
        "plt.plot(history.history['accuracy'], label='train acc')\n",
        "plt.plot(history.history['val_accuracy'], label='val acc')\n",
        "plt.legend()\n",
        "plt.xlabel('Epochs')\n",
        "plt.ylabel('Accuracy')\n",
        "plt.title('Training and Validation Accuracy')\n",
        "plt.savefig('AccVal_acc.png')\n",
        "plt.show()"
      ],
      "metadata": {
        "id": "0XVulmKVshYD",
        "colab": {
          "base_uri": "https://localhost:8080/",
          "height": 927
        },
        "outputId": "2becf57e-4826-4ad9-e170-cd257b826987"
      },
      "execution_count": null,
      "outputs": [
        {
          "output_type": "display_data",
          "data": {
            "text/plain": [
              "<Figure size 640x480 with 1 Axes>"
            ],
            "image/png": "[encoded data removed]"
          },
          "metadata": {}
        },
        {
          "output_type": "display_data",
          "data": {
            "text/plain": [
              "<Figure size 640x480 with 1 Axes>"
            ],
            "image/png": "[encoded data removed]"
          },
          "metadata": {}
        }
      ]
    },
    {
      "cell_type": "code",
      "execution_count": null,
      "metadata": {
        "id": "upfxqqK0vTMc"
      },
      "outputs": [],
      "source": [
        "test_steps_per_epoch = np.math.ceil(test_generator.samples / test_generator.batch_size)\n",
        "\n",
        "predictions = model.predict(test_generator, steps=test_steps_per_epoch)\n",
        "y_pred = np.argmax(predictions, axis=1)\n",
        "class_labels = list(test_generator.class_indices.keys())"
      ]
    },
    {
      "cell_type": "code",
      "execution_count": null,
      "metadata": {
        "colab": {
          "base_uri": "https://localhost:8080/"
        },
        "id": "fqfTTryqKnii",
        "outputId": "dcd45e0e-c3bb-4069-9894-086f174b542d"
      },
      "outputs": [
        {
          "output_type": "stream",
          "name": "stdout",
          "text": [
            "Classification Report:\n",
            "                 precision    recall  f1-score   support\n",
            "\n",
            "Bacterialblight     1.0000    0.9450    0.9717       200\n",
            "          Blast     0.9851    0.9950    0.9900       200\n",
            "      Brownspot     0.9950    0.9950    0.9950       200\n",
            "         Tungro     0.9569    1.0000    0.9780       200\n",
            "\n",
            "       accuracy                         0.9838       800\n",
            "      macro avg     0.9843    0.9838    0.9837       800\n",
            "   weighted avg     0.9843    0.9838    0.9837       800\n",
            "\n"
          ]
        }
      ],
      "source": [
        "print(\"Classification Report:\")\n",
        "print(classification_report(test_generator.classes, y_pred, target_names=class_labels, digits=4))\n",
        "\n",
        "model.save(\"model_CS.h5\")"
      ]
    },
    {
      "cell_type": "code",
      "source": [
        "from sklearn.metrics import confusion_matrix\n",
        "import seaborn as sns\n",
        "\n",
        "cm = confusion_matrix(test_generator.classes, y_pred)\n",
        "print(cm)\n",
        "sns.heatmap(cm, annot=True)"
      ],
      "metadata": {
        "id": "joCmAt9Tta5p",
        "colab": {
          "base_uri": "https://localhost:8080/",
          "height": 522
        },
        "outputId": "f54d0bb1-6029-4430-90cf-46a81d272291"
      },
      "execution_count": null,
      "outputs": [
        {
          "output_type": "stream",
          "name": "stdout",
          "text": [
            "[[189   2   1   8]\n",
            " [  0 199   0   1]\n",
            " [  0   1 199   0]\n",
            " [  0   0   0 200]]\n"
          ]
        },
        {
          "output_type": "execute_result",
          "data": {
            "text/plain": [
              "<Axes: >"
            ]
          },
          "metadata": {},
          "execution_count": 15
        },
        {
          "output_type": "display_data",
          "data": {
            "text/plain": [
              "<Figure size 640x480 with 2 Axes>"
            ],
            "image/png": "[encoded data removed]"
          },
          "metadata": {}
        }
      ]
    }
  ],
  "metadata": {
    "accelerator": "GPU",
    "colab": {
      "provenance": [],
      "gpuType": "T4"
    },
    "kernelspec": {
      "display_name": "Python 3",
      "name": "python3"
    },
    "language_info": {
      "codemirror_mode": {
        "name": "ipython",
        "version": 3
      },
      "file_extension": ".py",
      "mimetype": "text/x-python",
      "name": "python",
      "nbconvert_exporter": "python",
      "pygments_lexer": "ipython3",
      "version": "3.7.4"
    }
  },
  "nbformat": 4,
  "nbformat_minor": 0
}